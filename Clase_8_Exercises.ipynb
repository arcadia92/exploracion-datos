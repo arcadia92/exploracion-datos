{
  "nbformat": 4,
  "nbformat_minor": 0,
  "metadata": {
    "colab": {
      "provenance": []
    },
    "kernelspec": {
      "name": "python3",
      "display_name": "Python 3"
    },
    "language_info": {
      "name": "python"
    }
  },
  "cells": [
    {
      "cell_type": "markdown",
      "source": [
        "\n",
        "Taller Aplicado de Pivot Tables, Tablas de Contingencia y Melts"
      ],
      "metadata": {
        "id": "c4zeZQFnr2oV"
      }
    },
    {
      "cell_type": "code",
      "execution_count": 1,
      "metadata": {
        "colab": {
          "base_uri": "https://localhost:8080/"
        },
        "id": "LWCmQwhkpA0P",
        "outputId": "5f5b566f-4dfa-490d-cf94-610b6aa5d137"
      },
      "outputs": [
        {
          "output_type": "stream",
          "name": "stdout",
          "text": [
            "--2024-10-03 21:34:31--  https://github.com/javierherrera1996/lecture_analytics/raw/refs/heads/main/time_series.zip\n",
            "Resolving github.com (github.com)... 140.82.116.3\n",
            "Connecting to github.com (github.com)|140.82.116.3|:443... connected.\n",
            "HTTP request sent, awaiting response... 302 Found\n",
            "Location: https://raw.githubusercontent.com/javierherrera1996/lecture_analytics/refs/heads/main/time_series.zip [following]\n",
            "--2024-10-03 21:34:31--  https://raw.githubusercontent.com/javierherrera1996/lecture_analytics/refs/heads/main/time_series.zip\n",
            "Resolving raw.githubusercontent.com (raw.githubusercontent.com)... 185.199.111.133, 185.199.110.133, 185.199.108.133, ...\n",
            "Connecting to raw.githubusercontent.com (raw.githubusercontent.com)|185.199.111.133|:443... connected.\n",
            "HTTP request sent, awaiting response... 200 OK\n",
            "Length: 15602616 (15M) [application/zip]\n",
            "Saving to: ‘time_series.zip’\n",
            "\n",
            "time_series.zip     100%[===================>]  14.88M  79.3MB/s    in 0.2s    \n",
            "\n",
            "2024-10-03 21:34:32 (79.3 MB/s) - ‘time_series.zip’ saved [15602616/15602616]\n",
            "\n",
            "Archive:  time_series.zip\n",
            "   creating: time_series/\n",
            "  inflating: time_series/fundamentals.csv  \n",
            "  inflating: __MACOSX/time_series/._fundamentals.csv  \n",
            "  inflating: time_series/prices.csv  \n",
            "  inflating: __MACOSX/time_series/._prices.csv  \n"
          ]
        }
      ],
      "source": [
        "!wget https://github.com/javierherrera1996/lecture_analytics/raw/refs/heads/main/time_series.zip\n",
        "!unzip time_series.zip\n",
        "!cp -r time_series/* ./"
      ]
    },
    {
      "cell_type": "markdown",
      "source": [
        "Contexto del Taller\n",
        "Tienes datos históricos de precios y volumen de transacciones de acciones de una empresa (AAPL). El objetivo es utilizar herramientas como pivot tables, tablas de contingencia y melts en Python para realizar un análisis exploratorio que pueda influir en decisiones de inversión o identificar tendencias.\n",
        "\n",
        "Preguntas de Pivot Tables (Enfocadas a Negocio)\n",
        "Calcula el volumen promedio de transacciones por mes para la acción AAPL.\n",
        "\n",
        "Contexto de negocio: El volumen mensual te ayuda a entender la liquidez de la acción y detectar patrones de alta actividad.\n"
      ],
      "metadata": {
        "id": "wSqt9pHNr6NB"
      }
    },
    {
      "cell_type": "code",
      "source": [
        "import pandas as pd\n",
        "df = pd.read_csv('prices.csv')\n",
        "df.head()"
      ],
      "metadata": {
        "id": "JqXg1bPisAzP",
        "colab": {
          "base_uri": "https://localhost:8080/",
          "height": 206
        },
        "outputId": "f8da4497-394c-4306-bea4-d81a4b5b7413"
      },
      "execution_count": 43,
      "outputs": [
        {
          "output_type": "execute_result",
          "data": {
            "text/plain": [
              "                  date symbol        open       close         low        high  \\\n",
              "0  2016-01-05 00:00:00   WLTW  123.430000  125.839996  122.309998  126.250000   \n",
              "1  2016-01-06 00:00:00   WLTW  125.239998  119.980003  119.940002  125.540001   \n",
              "2  2016-01-07 00:00:00   WLTW  116.379997  114.949997  114.930000  119.739998   \n",
              "3  2016-01-08 00:00:00   WLTW  115.480003  116.620003  113.500000  117.440002   \n",
              "4  2016-01-11 00:00:00   WLTW  117.010002  114.970001  114.089996  117.330002   \n",
              "\n",
              "      volume  \n",
              "0  2163600.0  \n",
              "1  2386400.0  \n",
              "2  2489500.0  \n",
              "3  2006300.0  \n",
              "4  1408600.0  "
            ],
            "text/html": [
              "\n",
              "  <div id=\"df-ef98988c-9654-4f57-96de-78b1109c929f\" class=\"colab-df-container\">\n",
              "    <div>\n",
              "<style scoped>\n",
              "    .dataframe tbody tr th:only-of-type {\n",
              "        vertical-align: middle;\n",
              "    }\n",
              "\n",
              "    .dataframe tbody tr th {\n",
              "        vertical-align: top;\n",
              "    }\n",
              "\n",
              "    .dataframe thead th {\n",
              "        text-align: right;\n",
              "    }\n",
              "</style>\n",
              "<table border=\"1\" class=\"dataframe\">\n",
              "  <thead>\n",
              "    <tr style=\"text-align: right;\">\n",
              "      <th></th>\n",
              "      <th>date</th>\n",
              "      <th>symbol</th>\n",
              "      <th>open</th>\n",
              "      <th>close</th>\n",
              "      <th>low</th>\n",
              "      <th>high</th>\n",
              "      <th>volume</th>\n",
              "    </tr>\n",
              "  </thead>\n",
              "  <tbody>\n",
              "    <tr>\n",
              "      <th>0</th>\n",
              "      <td>2016-01-05 00:00:00</td>\n",
              "      <td>WLTW</td>\n",
              "      <td>123.430000</td>\n",
              "      <td>125.839996</td>\n",
              "      <td>122.309998</td>\n",
              "      <td>126.250000</td>\n",
              "      <td>2163600.0</td>\n",
              "    </tr>\n",
              "    <tr>\n",
              "      <th>1</th>\n",
              "      <td>2016-01-06 00:00:00</td>\n",
              "      <td>WLTW</td>\n",
              "      <td>125.239998</td>\n",
              "      <td>119.980003</td>\n",
              "      <td>119.940002</td>\n",
              "      <td>125.540001</td>\n",
              "      <td>2386400.0</td>\n",
              "    </tr>\n",
              "    <tr>\n",
              "      <th>2</th>\n",
              "      <td>2016-01-07 00:00:00</td>\n",
              "      <td>WLTW</td>\n",
              "      <td>116.379997</td>\n",
              "      <td>114.949997</td>\n",
              "      <td>114.930000</td>\n",
              "      <td>119.739998</td>\n",
              "      <td>2489500.0</td>\n",
              "    </tr>\n",
              "    <tr>\n",
              "      <th>3</th>\n",
              "      <td>2016-01-08 00:00:00</td>\n",
              "      <td>WLTW</td>\n",
              "      <td>115.480003</td>\n",
              "      <td>116.620003</td>\n",
              "      <td>113.500000</td>\n",
              "      <td>117.440002</td>\n",
              "      <td>2006300.0</td>\n",
              "    </tr>\n",
              "    <tr>\n",
              "      <th>4</th>\n",
              "      <td>2016-01-11 00:00:00</td>\n",
              "      <td>WLTW</td>\n",
              "      <td>117.010002</td>\n",
              "      <td>114.970001</td>\n",
              "      <td>114.089996</td>\n",
              "      <td>117.330002</td>\n",
              "      <td>1408600.0</td>\n",
              "    </tr>\n",
              "  </tbody>\n",
              "</table>\n",
              "</div>\n",
              "    <div class=\"colab-df-buttons\">\n",
              "\n",
              "  <div class=\"colab-df-container\">\n",
              "    <button class=\"colab-df-convert\" onclick=\"convertToInteractive('df-ef98988c-9654-4f57-96de-78b1109c929f')\"\n",
              "            title=\"Convert this dataframe to an interactive table.\"\n",
              "            style=\"display:none;\">\n",
              "\n",
              "  <svg xmlns=\"http://www.w3.org/2000/svg\" height=\"24px\" viewBox=\"0 -960 960 960\">\n",
              "    <path d=\"M120-120v-720h720v720H120Zm60-500h600v-160H180v160Zm220 220h160v-160H400v160Zm0 220h160v-160H400v160ZM180-400h160v-160H180v160Zm440 0h160v-160H620v160ZM180-180h160v-160H180v160Zm440 0h160v-160H620v160Z\"/>\n",
              "  </svg>\n",
              "    </button>\n",
              "\n",
              "  <style>\n",
              "    .colab-df-container {\n",
              "      display:flex;\n",
              "      gap: 12px;\n",
              "    }\n",
              "\n",
              "    .colab-df-convert {\n",
              "      background-color: #E8F0FE;\n",
              "      border: none;\n",
              "      border-radius: 50%;\n",
              "      cursor: pointer;\n",
              "      display: none;\n",
              "      fill: #1967D2;\n",
              "      height: 32px;\n",
              "      padding: 0 0 0 0;\n",
              "      width: 32px;\n",
              "    }\n",
              "\n",
              "    .colab-df-convert:hover {\n",
              "      background-color: #E2EBFA;\n",
              "      box-shadow: 0px 1px 2px rgba(60, 64, 67, 0.3), 0px 1px 3px 1px rgba(60, 64, 67, 0.15);\n",
              "      fill: #174EA6;\n",
              "    }\n",
              "\n",
              "    .colab-df-buttons div {\n",
              "      margin-bottom: 4px;\n",
              "    }\n",
              "\n",
              "    [theme=dark] .colab-df-convert {\n",
              "      background-color: #3B4455;\n",
              "      fill: #D2E3FC;\n",
              "    }\n",
              "\n",
              "    [theme=dark] .colab-df-convert:hover {\n",
              "      background-color: #434B5C;\n",
              "      box-shadow: 0px 1px 3px 1px rgba(0, 0, 0, 0.15);\n",
              "      filter: drop-shadow(0px 1px 2px rgba(0, 0, 0, 0.3));\n",
              "      fill: #FFFFFF;\n",
              "    }\n",
              "  </style>\n",
              "\n",
              "    <script>\n",
              "      const buttonEl =\n",
              "        document.querySelector('#df-ef98988c-9654-4f57-96de-78b1109c929f button.colab-df-convert');\n",
              "      buttonEl.style.display =\n",
              "        google.colab.kernel.accessAllowed ? 'block' : 'none';\n",
              "\n",
              "      async function convertToInteractive(key) {\n",
              "        const element = document.querySelector('#df-ef98988c-9654-4f57-96de-78b1109c929f');\n",
              "        const dataTable =\n",
              "          await google.colab.kernel.invokeFunction('convertToInteractive',\n",
              "                                                    [key], {});\n",
              "        if (!dataTable) return;\n",
              "\n",
              "        const docLinkHtml = 'Like what you see? Visit the ' +\n",
              "          '<a target=\"_blank\" href=https://colab.research.google.com/notebooks/data_table.ipynb>data table notebook</a>'\n",
              "          + ' to learn more about interactive tables.';\n",
              "        element.innerHTML = '';\n",
              "        dataTable['output_type'] = 'display_data';\n",
              "        await google.colab.output.renderOutput(dataTable, element);\n",
              "        const docLink = document.createElement('div');\n",
              "        docLink.innerHTML = docLinkHtml;\n",
              "        element.appendChild(docLink);\n",
              "      }\n",
              "    </script>\n",
              "  </div>\n",
              "\n",
              "\n",
              "<div id=\"df-1241ac07-3e60-4718-aa37-d119a485b51c\">\n",
              "  <button class=\"colab-df-quickchart\" onclick=\"quickchart('df-1241ac07-3e60-4718-aa37-d119a485b51c')\"\n",
              "            title=\"Suggest charts\"\n",
              "            style=\"display:none;\">\n",
              "\n",
              "<svg xmlns=\"http://www.w3.org/2000/svg\" height=\"24px\"viewBox=\"0 0 24 24\"\n",
              "     width=\"24px\">\n",
              "    <g>\n",
              "        <path d=\"M19 3H5c-1.1 0-2 .9-2 2v14c0 1.1.9 2 2 2h14c1.1 0 2-.9 2-2V5c0-1.1-.9-2-2-2zM9 17H7v-7h2v7zm4 0h-2V7h2v10zm4 0h-2v-4h2v4z\"/>\n",
              "    </g>\n",
              "</svg>\n",
              "  </button>\n",
              "\n",
              "<style>\n",
              "  .colab-df-quickchart {\n",
              "      --bg-color: #E8F0FE;\n",
              "      --fill-color: #1967D2;\n",
              "      --hover-bg-color: #E2EBFA;\n",
              "      --hover-fill-color: #174EA6;\n",
              "      --disabled-fill-color: #AAA;\n",
              "      --disabled-bg-color: #DDD;\n",
              "  }\n",
              "\n",
              "  [theme=dark] .colab-df-quickchart {\n",
              "      --bg-color: #3B4455;\n",
              "      --fill-color: #D2E3FC;\n",
              "      --hover-bg-color: #434B5C;\n",
              "      --hover-fill-color: #FFFFFF;\n",
              "      --disabled-bg-color: #3B4455;\n",
              "      --disabled-fill-color: #666;\n",
              "  }\n",
              "\n",
              "  .colab-df-quickchart {\n",
              "    background-color: var(--bg-color);\n",
              "    border: none;\n",
              "    border-radius: 50%;\n",
              "    cursor: pointer;\n",
              "    display: none;\n",
              "    fill: var(--fill-color);\n",
              "    height: 32px;\n",
              "    padding: 0;\n",
              "    width: 32px;\n",
              "  }\n",
              "\n",
              "  .colab-df-quickchart:hover {\n",
              "    background-color: var(--hover-bg-color);\n",
              "    box-shadow: 0 1px 2px rgba(60, 64, 67, 0.3), 0 1px 3px 1px rgba(60, 64, 67, 0.15);\n",
              "    fill: var(--button-hover-fill-color);\n",
              "  }\n",
              "\n",
              "  .colab-df-quickchart-complete:disabled,\n",
              "  .colab-df-quickchart-complete:disabled:hover {\n",
              "    background-color: var(--disabled-bg-color);\n",
              "    fill: var(--disabled-fill-color);\n",
              "    box-shadow: none;\n",
              "  }\n",
              "\n",
              "  .colab-df-spinner {\n",
              "    border: 2px solid var(--fill-color);\n",
              "    border-color: transparent;\n",
              "    border-bottom-color: var(--fill-color);\n",
              "    animation:\n",
              "      spin 1s steps(1) infinite;\n",
              "  }\n",
              "\n",
              "  @keyframes spin {\n",
              "    0% {\n",
              "      border-color: transparent;\n",
              "      border-bottom-color: var(--fill-color);\n",
              "      border-left-color: var(--fill-color);\n",
              "    }\n",
              "    20% {\n",
              "      border-color: transparent;\n",
              "      border-left-color: var(--fill-color);\n",
              "      border-top-color: var(--fill-color);\n",
              "    }\n",
              "    30% {\n",
              "      border-color: transparent;\n",
              "      border-left-color: var(--fill-color);\n",
              "      border-top-color: var(--fill-color);\n",
              "      border-right-color: var(--fill-color);\n",
              "    }\n",
              "    40% {\n",
              "      border-color: transparent;\n",
              "      border-right-color: var(--fill-color);\n",
              "      border-top-color: var(--fill-color);\n",
              "    }\n",
              "    60% {\n",
              "      border-color: transparent;\n",
              "      border-right-color: var(--fill-color);\n",
              "    }\n",
              "    80% {\n",
              "      border-color: transparent;\n",
              "      border-right-color: var(--fill-color);\n",
              "      border-bottom-color: var(--fill-color);\n",
              "    }\n",
              "    90% {\n",
              "      border-color: transparent;\n",
              "      border-bottom-color: var(--fill-color);\n",
              "    }\n",
              "  }\n",
              "</style>\n",
              "\n",
              "  <script>\n",
              "    async function quickchart(key) {\n",
              "      const quickchartButtonEl =\n",
              "        document.querySelector('#' + key + ' button');\n",
              "      quickchartButtonEl.disabled = true;  // To prevent multiple clicks.\n",
              "      quickchartButtonEl.classList.add('colab-df-spinner');\n",
              "      try {\n",
              "        const charts = await google.colab.kernel.invokeFunction(\n",
              "            'suggestCharts', [key], {});\n",
              "      } catch (error) {\n",
              "        console.error('Error during call to suggestCharts:', error);\n",
              "      }\n",
              "      quickchartButtonEl.classList.remove('colab-df-spinner');\n",
              "      quickchartButtonEl.classList.add('colab-df-quickchart-complete');\n",
              "    }\n",
              "    (() => {\n",
              "      let quickchartButtonEl =\n",
              "        document.querySelector('#df-1241ac07-3e60-4718-aa37-d119a485b51c button');\n",
              "      quickchartButtonEl.style.display =\n",
              "        google.colab.kernel.accessAllowed ? 'block' : 'none';\n",
              "    })();\n",
              "  </script>\n",
              "</div>\n",
              "\n",
              "    </div>\n",
              "  </div>\n"
            ],
            "application/vnd.google.colaboratory.intrinsic+json": {
              "type": "dataframe",
              "variable_name": "df"
            }
          },
          "metadata": {},
          "execution_count": 43
        }
      ]
    },
    {
      "cell_type": "markdown",
      "source": [
        "\\Calcula el precio promedio de apertura y cierre por día de la semana.\n",
        "\n",
        "Contexto de negocio: Esto puede ayudar a identificar si hay días de la semana en los que la acción tiende a abrir o cerrar con precios más altos."
      ],
      "metadata": {
        "id": "NObhi-Rqr-X9"
      }
    },
    {
      "cell_type": "code",
      "source": [
        "import pandas as pd\n",
        "\n",
        "# Cargar el dataset desde un archivo CSV\n",
        "data = pd.read_csv('prices.csv')\n",
        "\n",
        "# Ver las primeras filas del dataset\n",
        "data.head()"
      ],
      "metadata": {
        "id": "oLK1kDuDsBUt",
        "outputId": "a34c4d95-11b9-4ae0-c3f2-feb5378912fb",
        "colab": {
          "base_uri": "https://localhost:8080/",
          "height": 206
        }
      },
      "execution_count": 7,
      "outputs": [
        {
          "output_type": "execute_result",
          "data": {
            "text/plain": [
              "                  date symbol        open       close         low        high  \\\n",
              "0  2016-01-05 00:00:00   WLTW  123.430000  125.839996  122.309998  126.250000   \n",
              "1  2016-01-06 00:00:00   WLTW  125.239998  119.980003  119.940002  125.540001   \n",
              "2  2016-01-07 00:00:00   WLTW  116.379997  114.949997  114.930000  119.739998   \n",
              "3  2016-01-08 00:00:00   WLTW  115.480003  116.620003  113.500000  117.440002   \n",
              "4  2016-01-11 00:00:00   WLTW  117.010002  114.970001  114.089996  117.330002   \n",
              "\n",
              "      volume  \n",
              "0  2163600.0  \n",
              "1  2386400.0  \n",
              "2  2489500.0  \n",
              "3  2006300.0  \n",
              "4  1408600.0  "
            ],
            "text/html": [
              "\n",
              "  <div id=\"df-ce43e0ac-c7f4-442b-98dd-01ffa01e85b2\" class=\"colab-df-container\">\n",
              "    <div>\n",
              "<style scoped>\n",
              "    .dataframe tbody tr th:only-of-type {\n",
              "        vertical-align: middle;\n",
              "    }\n",
              "\n",
              "    .dataframe tbody tr th {\n",
              "        vertical-align: top;\n",
              "    }\n",
              "\n",
              "    .dataframe thead th {\n",
              "        text-align: right;\n",
              "    }\n",
              "</style>\n",
              "<table border=\"1\" class=\"dataframe\">\n",
              "  <thead>\n",
              "    <tr style=\"text-align: right;\">\n",
              "      <th></th>\n",
              "      <th>date</th>\n",
              "      <th>symbol</th>\n",
              "      <th>open</th>\n",
              "      <th>close</th>\n",
              "      <th>low</th>\n",
              "      <th>high</th>\n",
              "      <th>volume</th>\n",
              "    </tr>\n",
              "  </thead>\n",
              "  <tbody>\n",
              "    <tr>\n",
              "      <th>0</th>\n",
              "      <td>2016-01-05 00:00:00</td>\n",
              "      <td>WLTW</td>\n",
              "      <td>123.430000</td>\n",
              "      <td>125.839996</td>\n",
              "      <td>122.309998</td>\n",
              "      <td>126.250000</td>\n",
              "      <td>2163600.0</td>\n",
              "    </tr>\n",
              "    <tr>\n",
              "      <th>1</th>\n",
              "      <td>2016-01-06 00:00:00</td>\n",
              "      <td>WLTW</td>\n",
              "      <td>125.239998</td>\n",
              "      <td>119.980003</td>\n",
              "      <td>119.940002</td>\n",
              "      <td>125.540001</td>\n",
              "      <td>2386400.0</td>\n",
              "    </tr>\n",
              "    <tr>\n",
              "      <th>2</th>\n",
              "      <td>2016-01-07 00:00:00</td>\n",
              "      <td>WLTW</td>\n",
              "      <td>116.379997</td>\n",
              "      <td>114.949997</td>\n",
              "      <td>114.930000</td>\n",
              "      <td>119.739998</td>\n",
              "      <td>2489500.0</td>\n",
              "    </tr>\n",
              "    <tr>\n",
              "      <th>3</th>\n",
              "      <td>2016-01-08 00:00:00</td>\n",
              "      <td>WLTW</td>\n",
              "      <td>115.480003</td>\n",
              "      <td>116.620003</td>\n",
              "      <td>113.500000</td>\n",
              "      <td>117.440002</td>\n",
              "      <td>2006300.0</td>\n",
              "    </tr>\n",
              "    <tr>\n",
              "      <th>4</th>\n",
              "      <td>2016-01-11 00:00:00</td>\n",
              "      <td>WLTW</td>\n",
              "      <td>117.010002</td>\n",
              "      <td>114.970001</td>\n",
              "      <td>114.089996</td>\n",
              "      <td>117.330002</td>\n",
              "      <td>1408600.0</td>\n",
              "    </tr>\n",
              "  </tbody>\n",
              "</table>\n",
              "</div>\n",
              "    <div class=\"colab-df-buttons\">\n",
              "\n",
              "  <div class=\"colab-df-container\">\n",
              "    <button class=\"colab-df-convert\" onclick=\"convertToInteractive('df-ce43e0ac-c7f4-442b-98dd-01ffa01e85b2')\"\n",
              "            title=\"Convert this dataframe to an interactive table.\"\n",
              "            style=\"display:none;\">\n",
              "\n",
              "  <svg xmlns=\"http://www.w3.org/2000/svg\" height=\"24px\" viewBox=\"0 -960 960 960\">\n",
              "    <path d=\"M120-120v-720h720v720H120Zm60-500h600v-160H180v160Zm220 220h160v-160H400v160Zm0 220h160v-160H400v160ZM180-400h160v-160H180v160Zm440 0h160v-160H620v160ZM180-180h160v-160H180v160Zm440 0h160v-160H620v160Z\"/>\n",
              "  </svg>\n",
              "    </button>\n",
              "\n",
              "  <style>\n",
              "    .colab-df-container {\n",
              "      display:flex;\n",
              "      gap: 12px;\n",
              "    }\n",
              "\n",
              "    .colab-df-convert {\n",
              "      background-color: #E8F0FE;\n",
              "      border: none;\n",
              "      border-radius: 50%;\n",
              "      cursor: pointer;\n",
              "      display: none;\n",
              "      fill: #1967D2;\n",
              "      height: 32px;\n",
              "      padding: 0 0 0 0;\n",
              "      width: 32px;\n",
              "    }\n",
              "\n",
              "    .colab-df-convert:hover {\n",
              "      background-color: #E2EBFA;\n",
              "      box-shadow: 0px 1px 2px rgba(60, 64, 67, 0.3), 0px 1px 3px 1px rgba(60, 64, 67, 0.15);\n",
              "      fill: #174EA6;\n",
              "    }\n",
              "\n",
              "    .colab-df-buttons div {\n",
              "      margin-bottom: 4px;\n",
              "    }\n",
              "\n",
              "    [theme=dark] .colab-df-convert {\n",
              "      background-color: #3B4455;\n",
              "      fill: #D2E3FC;\n",
              "    }\n",
              "\n",
              "    [theme=dark] .colab-df-convert:hover {\n",
              "      background-color: #434B5C;\n",
              "      box-shadow: 0px 1px 3px 1px rgba(0, 0, 0, 0.15);\n",
              "      filter: drop-shadow(0px 1px 2px rgba(0, 0, 0, 0.3));\n",
              "      fill: #FFFFFF;\n",
              "    }\n",
              "  </style>\n",
              "\n",
              "    <script>\n",
              "      const buttonEl =\n",
              "        document.querySelector('#df-ce43e0ac-c7f4-442b-98dd-01ffa01e85b2 button.colab-df-convert');\n",
              "      buttonEl.style.display =\n",
              "        google.colab.kernel.accessAllowed ? 'block' : 'none';\n",
              "\n",
              "      async function convertToInteractive(key) {\n",
              "        const element = document.querySelector('#df-ce43e0ac-c7f4-442b-98dd-01ffa01e85b2');\n",
              "        const dataTable =\n",
              "          await google.colab.kernel.invokeFunction('convertToInteractive',\n",
              "                                                    [key], {});\n",
              "        if (!dataTable) return;\n",
              "\n",
              "        const docLinkHtml = 'Like what you see? Visit the ' +\n",
              "          '<a target=\"_blank\" href=https://colab.research.google.com/notebooks/data_table.ipynb>data table notebook</a>'\n",
              "          + ' to learn more about interactive tables.';\n",
              "        element.innerHTML = '';\n",
              "        dataTable['output_type'] = 'display_data';\n",
              "        await google.colab.output.renderOutput(dataTable, element);\n",
              "        const docLink = document.createElement('div');\n",
              "        docLink.innerHTML = docLinkHtml;\n",
              "        element.appendChild(docLink);\n",
              "      }\n",
              "    </script>\n",
              "  </div>\n",
              "\n",
              "\n",
              "<div id=\"df-58feba45-eed8-4fc3-badf-6f542e78bfe4\">\n",
              "  <button class=\"colab-df-quickchart\" onclick=\"quickchart('df-58feba45-eed8-4fc3-badf-6f542e78bfe4')\"\n",
              "            title=\"Suggest charts\"\n",
              "            style=\"display:none;\">\n",
              "\n",
              "<svg xmlns=\"http://www.w3.org/2000/svg\" height=\"24px\"viewBox=\"0 0 24 24\"\n",
              "     width=\"24px\">\n",
              "    <g>\n",
              "        <path d=\"M19 3H5c-1.1 0-2 .9-2 2v14c0 1.1.9 2 2 2h14c1.1 0 2-.9 2-2V5c0-1.1-.9-2-2-2zM9 17H7v-7h2v7zm4 0h-2V7h2v10zm4 0h-2v-4h2v4z\"/>\n",
              "    </g>\n",
              "</svg>\n",
              "  </button>\n",
              "\n",
              "<style>\n",
              "  .colab-df-quickchart {\n",
              "      --bg-color: #E8F0FE;\n",
              "      --fill-color: #1967D2;\n",
              "      --hover-bg-color: #E2EBFA;\n",
              "      --hover-fill-color: #174EA6;\n",
              "      --disabled-fill-color: #AAA;\n",
              "      --disabled-bg-color: #DDD;\n",
              "  }\n",
              "\n",
              "  [theme=dark] .colab-df-quickchart {\n",
              "      --bg-color: #3B4455;\n",
              "      --fill-color: #D2E3FC;\n",
              "      --hover-bg-color: #434B5C;\n",
              "      --hover-fill-color: #FFFFFF;\n",
              "      --disabled-bg-color: #3B4455;\n",
              "      --disabled-fill-color: #666;\n",
              "  }\n",
              "\n",
              "  .colab-df-quickchart {\n",
              "    background-color: var(--bg-color);\n",
              "    border: none;\n",
              "    border-radius: 50%;\n",
              "    cursor: pointer;\n",
              "    display: none;\n",
              "    fill: var(--fill-color);\n",
              "    height: 32px;\n",
              "    padding: 0;\n",
              "    width: 32px;\n",
              "  }\n",
              "\n",
              "  .colab-df-quickchart:hover {\n",
              "    background-color: var(--hover-bg-color);\n",
              "    box-shadow: 0 1px 2px rgba(60, 64, 67, 0.3), 0 1px 3px 1px rgba(60, 64, 67, 0.15);\n",
              "    fill: var(--button-hover-fill-color);\n",
              "  }\n",
              "\n",
              "  .colab-df-quickchart-complete:disabled,\n",
              "  .colab-df-quickchart-complete:disabled:hover {\n",
              "    background-color: var(--disabled-bg-color);\n",
              "    fill: var(--disabled-fill-color);\n",
              "    box-shadow: none;\n",
              "  }\n",
              "\n",
              "  .colab-df-spinner {\n",
              "    border: 2px solid var(--fill-color);\n",
              "    border-color: transparent;\n",
              "    border-bottom-color: var(--fill-color);\n",
              "    animation:\n",
              "      spin 1s steps(1) infinite;\n",
              "  }\n",
              "\n",
              "  @keyframes spin {\n",
              "    0% {\n",
              "      border-color: transparent;\n",
              "      border-bottom-color: var(--fill-color);\n",
              "      border-left-color: var(--fill-color);\n",
              "    }\n",
              "    20% {\n",
              "      border-color: transparent;\n",
              "      border-left-color: var(--fill-color);\n",
              "      border-top-color: var(--fill-color);\n",
              "    }\n",
              "    30% {\n",
              "      border-color: transparent;\n",
              "      border-left-color: var(--fill-color);\n",
              "      border-top-color: var(--fill-color);\n",
              "      border-right-color: var(--fill-color);\n",
              "    }\n",
              "    40% {\n",
              "      border-color: transparent;\n",
              "      border-right-color: var(--fill-color);\n",
              "      border-top-color: var(--fill-color);\n",
              "    }\n",
              "    60% {\n",
              "      border-color: transparent;\n",
              "      border-right-color: var(--fill-color);\n",
              "    }\n",
              "    80% {\n",
              "      border-color: transparent;\n",
              "      border-right-color: var(--fill-color);\n",
              "      border-bottom-color: var(--fill-color);\n",
              "    }\n",
              "    90% {\n",
              "      border-color: transparent;\n",
              "      border-bottom-color: var(--fill-color);\n",
              "    }\n",
              "  }\n",
              "</style>\n",
              "\n",
              "  <script>\n",
              "    async function quickchart(key) {\n",
              "      const quickchartButtonEl =\n",
              "        document.querySelector('#' + key + ' button');\n",
              "      quickchartButtonEl.disabled = true;  // To prevent multiple clicks.\n",
              "      quickchartButtonEl.classList.add('colab-df-spinner');\n",
              "      try {\n",
              "        const charts = await google.colab.kernel.invokeFunction(\n",
              "            'suggestCharts', [key], {});\n",
              "      } catch (error) {\n",
              "        console.error('Error during call to suggestCharts:', error);\n",
              "      }\n",
              "      quickchartButtonEl.classList.remove('colab-df-spinner');\n",
              "      quickchartButtonEl.classList.add('colab-df-quickchart-complete');\n",
              "    }\n",
              "    (() => {\n",
              "      let quickchartButtonEl =\n",
              "        document.querySelector('#df-58feba45-eed8-4fc3-badf-6f542e78bfe4 button');\n",
              "      quickchartButtonEl.style.display =\n",
              "        google.colab.kernel.accessAllowed ? 'block' : 'none';\n",
              "    })();\n",
              "  </script>\n",
              "</div>\n",
              "\n",
              "    </div>\n",
              "  </div>\n"
            ],
            "application/vnd.google.colaboratory.intrinsic+json": {
              "type": "dataframe",
              "variable_name": "data"
            }
          },
          "metadata": {},
          "execution_count": 7
        }
      ]
    },
    {
      "cell_type": "markdown",
      "source": [
        "Calcula el volumen total de transacciones por día de la semana y compara la actividad entre días.\n",
        "\n",
        "Contexto de negocio: Saber qué días tienen mayor actividad puede ayudarte a decidir cuándo realizar compras o ventas estratégicas."
      ],
      "metadata": {
        "id": "EuiXaaDHrBzj"
      }
    },
    {
      "cell_type": "code",
      "source": [
        "\n",
        "# Convertir la columna 'date' a datetime\n",
        "# using the format specified in the error message\n",
        "df['date'] = pd.to_datetime(df['date'], format='%Y-%m-%d',errors=\"coerce\")\n",
        "\n",
        "# Extraer el día de la semana\n",
        "df['day_of_week'] = df['date'].dt.day_name()\n",
        "\n"
      ],
      "metadata": {
        "id": "eYgl34ODZpET"
      },
      "execution_count": 44,
      "outputs": []
    },
    {
      "cell_type": "code",
      "source": [
        "# Calcular el volumen total de transacciones por día de la semana\n",
        "volume_by_day = df.groupby('day_of_week')['volume'].sum()\n",
        "\n",
        "# Reindexar el DataFrame con el orden de los días de la semana\n",
        "days = ['Monday', 'Tuesday', 'Wednesday', 'Thursday', 'Friday']\n",
        "volume_by_day = volume_by_day.reindex(days)\n",
        "\n",
        "# Comparar la actividad entre días\n",
        "print(volume_by_day)\n",
        "\n",
        "# Encontrar el día con mayor y menor volumen\n",
        "max_day = volume_by_day.idxmax()\n",
        "min_day = volume_by_day.idxmin()\n",
        "\n",
        "print(f\"\\nEl día con mayor volumen de transacciones es {max_day}\")\n",
        "print(f\"El día con menor volumen de transacciones es {min_day}\")"
      ],
      "metadata": {
        "id": "QXYlqTjOa6QC",
        "outputId": "67b1d587-412f-4513-e385-3dedbe845854",
        "colab": {
          "base_uri": "https://localhost:8080/"
        }
      },
      "execution_count": 18,
      "outputs": [
        {
          "output_type": "stream",
          "name": "stdout",
          "text": [
            "day_of_week\n",
            "Monday       7.961518e+11\n",
            "Tuesday      9.417672e+11\n",
            "Wednesday    9.607407e+11\n",
            "Thursday     9.549972e+11\n",
            "Friday       9.530132e+11\n",
            "Name: volume, dtype: float64\n",
            "\n",
            "El día con mayor volumen de transacciones es Wednesday\n",
            "El día con menor volumen de transacciones es Monday\n"
          ]
        }
      ]
    },
    {
      "cell_type": "markdown",
      "source": [
        "Calcula los precios máximos y mínimos de apertura por mes.\n",
        "\n",
        "Contexto de negocio: Esto te permitirá evaluar la volatilidad mensual de la acción."
      ],
      "metadata": {
        "id": "F7JD1MvdryJA"
      }
    },
    {
      "cell_type": "code",
      "source": [
        "import pandas as pd\n",
        "\n",
        "df = pd.read_csv('prices.csv')\n",
        "\n",
        "# Convertir la columna 'date' a datetime\n",
        "df['date'] = pd.to_datetime(df['date'], format='%Y-%m-%d', errors=\"coerce\")\n",
        "\n",
        "# Extraer el año y el mes\n",
        "df['year'] = df['date'].dt.year\n",
        "df['month'] = df['date'].dt.month\n",
        "\n",
        "# Calcular el precio máximo y mínimo de apertura por mes\n",
        "max_min_prices = df.groupby(['year', 'month'])['open'].agg(['min', 'max'])\n",
        "\n",
        "# Mostrar los resultados\n",
        "print(max_min_prices)"
      ],
      "metadata": {
        "id": "9Uoi1Gy3Y-i6",
        "outputId": "fec4d1e3-0e6d-4005-e843-d38203ab5a8e",
        "colab": {
          "base_uri": "https://localhost:8080/"
        }
      },
      "execution_count": 21,
      "outputs": [
        {
          "output_type": "stream",
          "name": "stdout",
          "text": [
            "               min          max\n",
            "year   month                   \n",
            "2010.0 1.0    1.38   627.181073\n",
            "       2.0    1.26   547.350910\n",
            "       3.0    1.50   588.140995\n",
            "       4.0    1.54   592.171005\n",
            "       5.0    1.22   526.520892\n",
            "...            ...          ...\n",
            "2016.0 8.0    4.58  1440.000000\n",
            "       9.0    4.18  1478.069946\n",
            "       10.0   3.95  1498.739990\n",
            "       11.0   3.15  1584.439941\n",
            "       12.0   3.27  1560.550049\n",
            "\n",
            "[84 rows x 2 columns]\n"
          ]
        }
      ]
    },
    {
      "cell_type": "code",
      "source": [],
      "metadata": {
        "id": "J3dkmfeqFtze"
      },
      "execution_count": null,
      "outputs": []
    },
    {
      "cell_type": "markdown",
      "source": [
        "Calcula el volumen promedio por mes y acción (suponiendo que tienes datos de múltiples acciones).\n",
        "\n",
        "Contexto de negocio: Esta información te ayuda a comparar la liquidez de diferentes acciones a lo largo del tiempo.\n"
      ],
      "metadata": {
        "id": "Kd2KertnFuEY"
      }
    },
    {
      "cell_type": "code",
      "source": [
        "import pandas as pd\n",
        "\n",
        "df = pd.read_csv('prices.csv')\n",
        "\n",
        "# Convertir la columna 'date' a datetime\n",
        "df['date'] = pd.to_datetime(df['date'], format='%Y-%m-%d %H:%M:%S', errors='coerce')\n",
        "\n",
        "# Extraer el año y el mes\n",
        "df['year'] = df['date'].dt.year\n",
        "df['month'] = df['date'].dt.month\n",
        "\n",
        "# Calcular el volumen promedio por mes y acción\n",
        "average_volume = df.groupby(['symbol', 'year', 'month'])['volume'].mean()\n",
        "\n",
        "# Mostrar los resultados\n",
        "print(average_volume)"
      ],
      "metadata": {
        "id": "YoPUqDkiFwuM",
        "outputId": "5b4ae408-daed-4070-d41a-579e30de0a42",
        "colab": {
          "base_uri": "https://localhost:8080/"
        }
      },
      "execution_count": 22,
      "outputs": [
        {
          "output_type": "stream",
          "name": "stdout",
          "text": [
            "symbol  year    month\n",
            "AIV     2010.0  1.0      2.435384e+06\n",
            "                2.0      2.366379e+06\n",
            "                3.0      1.896691e+06\n",
            "                4.0      2.411843e+06\n",
            "                5.0      3.047175e+06\n",
            "                             ...     \n",
            "WLTW    2016.0  8.0      6.308435e+05\n",
            "                9.0      7.488095e+05\n",
            "                10.0     5.898476e+05\n",
            "                11.0     8.967857e+05\n",
            "                12.0     7.636000e+05\n",
            "Name: volume, Length: 102, dtype: float64\n"
          ]
        }
      ]
    },
    {
      "cell_type": "markdown",
      "source": [
        "Calcula el precio de cierre promedio de la acción AAPL por mes, y agrega una columna con el total de transacciones en cada mes.\n",
        "\n",
        "Contexto de negocio: Esto te permite comparar el comportamiento de los precios con el volumen de transacciones, para entender si hay algún patrón de venta o compra en función del precio."
      ],
      "metadata": {
        "id": "Bi9wyS9lFw-S"
      }
    },
    {
      "cell_type": "code",
      "source": [
        "import pandas as pd\n",
        "\n",
        "df = pd.read_csv('prices.csv')\n",
        "\n",
        "# Convertir la columna 'date' a datetime\n",
        "df['date'] = pd.to_datetime(df['date'], format='%Y-%m-%d %H:%M:%S', errors='coerce')\n",
        "\n",
        "# Extraer el año y el mes\n",
        "df['year'] = df['date'].dt.year\n",
        "df['month'] = df['date'].dt.month\n",
        "\n",
        "# Filtrar los datos para la acción AAPL\n",
        "aapl_df = df[df['symbol'] == 'AAPL']\n",
        "\n",
        "# Calcular el precio de cierre promedio por mes\n",
        "monthly_avg_close = aapl_df.groupby(['year', 'month'])['close'].mean()\n",
        "\n",
        "# Calcular el total de transacciones por mes\n",
        "monthly_transactions = aapl_df.groupby(['year', 'month'])['volume'].sum()\n",
        "\n",
        "# Combinar los resultados en un solo DataFrame\n",
        "result_df = pd.concat([monthly_avg_close, monthly_transactions], axis=1)\n",
        "result_df.columns = ['average_close', 'total_transactions']\n",
        "\n",
        "# Mostrar el resultado\n",
        "print(result_df)"
      ],
      "metadata": {
        "id": "GhnLngACF0zq",
        "outputId": "79e83a82-8b47-42a4-f48f-53ad42b64b23",
        "colab": {
          "base_uri": "https://localhost:8080/"
        }
      },
      "execution_count": 23,
      "outputs": [
        {
          "output_type": "stream",
          "name": "stdout",
          "text": [
            "Empty DataFrame\n",
            "Columns: [average_close, total_transactions]\n",
            "Index: []\n"
          ]
        }
      ]
    },
    {
      "cell_type": "markdown",
      "source": [
        "Preguntas de Tablas de Contingencia (Aplicadas a Negocios)\n",
        "Crea una tabla de contingencia para contar cuántos días el precio de apertura fue mayor o igual a $155 y cuántos días fue menor a $155.\n",
        "\n",
        "Contexto de negocio: Esto te ayuda a entender cómo se distribuyen los precios de apertura alrededor de un umbral crítico de $155."
      ],
      "metadata": {
        "id": "pUuT9YI3F1Dj"
      }
    },
    {
      "cell_type": "code",
      "source": [
        "import pandas as pd\n",
        "\n",
        "df = pd.read_csv('prices.csv')\n",
        "\n",
        "# Convertir la columna 'date' a datetime\n",
        "df['date'] = pd.to_datetime(df['date'], format='%Y-%m-%d %H:%M:%S', errors='coerce')\n",
        "\n",
        "# Crear una nueva columna para indicar si el precio de apertura es mayor o igual a 155\n",
        "df['open_ge_155'] = df['open'] >= 155\n",
        "\n",
        "# Crear la tabla de contingencia\n",
        "contingency_table = pd.crosstab(index=df['open_ge_155'], columns='count')\n",
        "\n",
        "# Mostrar la tabla\n",
        "print(contingency_table)"
      ],
      "metadata": {
        "id": "4dM_dP8TF6x8",
        "outputId": "3481a3ce-3002-46f0-dcff-b15a340e53b7",
        "colab": {
          "base_uri": "https://localhost:8080/"
        }
      },
      "execution_count": 24,
      "outputs": [
        {
          "output_type": "stream",
          "name": "stdout",
          "text": [
            "col_0         count\n",
            "open_ge_155        \n",
            "False        800961\n",
            "True          50303\n"
          ]
        }
      ]
    },
    {
      "cell_type": "markdown",
      "source": [
        "Genera una tabla de contingencia para contar cuántos días el volumen de transacciones fue mayor o igual a 75 millones y cuántos días fue menor.\n",
        "\n",
        "Contexto de negocio: Identificar días de alto volumen de transacciones es clave para entender cuándo hubo más interés en la compra/venta de la acción."
      ],
      "metadata": {
        "id": "3lLqxPVvF7IC"
      }
    },
    {
      "cell_type": "code",
      "source": [
        "import pandas as pd\n",
        "\n",
        "df = pd.read_csv('prices.csv')\n",
        "\n",
        "# Convertir la columna 'date' a datetime\n",
        "df['date'] = pd.to_datetime(df['date'], format='%Y-%m-%d %H:%M:%S', errors='coerce')\n",
        "\n",
        "# Crear una nueva columna para indicar si el volumen es mayor o igual a 75 millones\n",
        "df['volume_ge_75M'] = df['volume'] >= 75000000\n",
        "\n",
        "# Crear la tabla de contingencia\n",
        "contingency_table = pd.crosstab(index=df['volume_ge_75M'], columns='count')\n",
        "\n",
        "# Mostrar la tabla\n",
        "print(contingency_table)"
      ],
      "metadata": {
        "id": "9asT7zPKF9sJ",
        "outputId": "30e99d3b-24b8-40a0-d450-1c59e178f3a4",
        "colab": {
          "base_uri": "https://localhost:8080/"
        }
      },
      "execution_count": 25,
      "outputs": [
        {
          "output_type": "stream",
          "name": "stdout",
          "text": [
            "col_0           count\n",
            "volume_ge_75M        \n",
            "False          847171\n",
            "True             4093\n"
          ]
        }
      ]
    },
    {
      "cell_type": "markdown",
      "source": [
        "Crea una tabla de contingencia que muestre cuántos días el precio de cierre fue mayor o igual al precio de apertura, y cuántos días fue menor.\n",
        "\n",
        "Contexto de negocio: Saber en cuántos días la acción cerró por encima o por debajo del precio de apertura puede darte una idea general del rendimiento de la acción."
      ],
      "metadata": {
        "id": "Fl5U-mJIF9-E"
      }
    },
    {
      "cell_type": "code",
      "source": [
        "import pandas as pd\n",
        "\n",
        "df = pd.read_csv('prices.csv')\n",
        "\n",
        "# Convertir la columna 'date' a datetime\n",
        "df['date'] = pd.to_datetime(df['date'], format='%Y-%m-%d %H:%M:%S', errors='coerce')\n",
        "\n",
        "# Crear una nueva columna para indicar si el precio de cierre es mayor o igual al precio de apertura\n",
        "df['close_ge_open'] = df['close'] >= df['open']\n",
        "\n",
        "# Crear la tabla de contingencia\n",
        "contingency_table = pd.crosstab(index=df['close_ge_open'], columns='count')\n",
        "\n",
        "# Mostrar la tabla\n",
        "print(contingency_table)"
      ],
      "metadata": {
        "id": "wWgJrNSlGAV5",
        "outputId": "a26845f0-5741-464e-9d72-995e4c8d4757",
        "colab": {
          "base_uri": "https://localhost:8080/"
        }
      },
      "execution_count": 26,
      "outputs": [
        {
          "output_type": "stream",
          "name": "stdout",
          "text": [
            "col_0           count\n",
            "close_ge_open        \n",
            "False          406500\n",
            "True           444764\n"
          ]
        }
      ]
    },
    {
      "cell_type": "markdown",
      "source": [
        "Añade márgenes (totales) a la tabla de contingencia anterior para conocer el total de días con subidas y bajadas de precio.\n",
        "\n",
        "Contexto de negocio: Analizar cuántos días en general la acción tuvo subidas o bajadas te da un panorama más amplio del comportamiento de la acción."
      ],
      "metadata": {
        "id": "uRLZ1pTRGAju"
      }
    },
    {
      "cell_type": "code",
      "source": [
        "import pandas as pd\n",
        "\n",
        "df = pd.read_csv('prices.csv')\n",
        "\n",
        "# Convertir la columna 'date' a datetime\n",
        "df['date'] = pd.to_datetime(df['date'], format='%Y-%m-%d %H:%M:%S', errors='coerce')\n",
        "\n",
        "# Crear una nueva columna para indicar si el precio de cierre es mayor o igual al precio de apertura\n",
        "df['close_ge_open'] = df['close'] >= df['open']\n",
        "\n",
        "# Crear la tabla de contingencia con márgenes\n",
        "contingency_table = pd.crosstab(index=df['close_ge_open'], columns='count', margins=True)\n",
        "\n",
        "# Mostrar la tabla\n",
        "print(contingency_table)"
      ],
      "metadata": {
        "id": "2Qmh2spuGD9q",
        "outputId": "fb1e25e3-fa9f-45fb-c5bb-be014a9ff354",
        "colab": {
          "base_uri": "https://localhost:8080/"
        }
      },
      "execution_count": 27,
      "outputs": [
        {
          "output_type": "stream",
          "name": "stdout",
          "text": [
            "col_0           count     All\n",
            "close_ge_open                \n",
            "False          406500  406500\n",
            "True           444764  444764\n",
            "All            851264  851264\n"
          ]
        }
      ]
    },
    {
      "cell_type": "markdown",
      "source": [
        "Crea una tabla de contingencia que compare cuántos días el precio de apertura fue mayor o igual a $155 y al mismo tiempo el precio de cierre ajustado fue mayor o menor a $155.\n",
        "\n",
        "Contexto de negocio: Esto permite identificar patrones donde el precio de apertura y el precio de cierre ajustado cruzan umbrales críticos, lo que es útil para ajustes en las estrategias de compra/venta."
      ],
      "metadata": {
        "id": "2U-4wGeQGEOE"
      }
    },
    {
      "cell_type": "code",
      "source": [
        "\n",
        "# Crear nuevas columnas para las condiciones\n",
        "df['open_ge_155'] = df['open'] >= 155\n",
        "# Verify the correct column name - it might be 'Adj Close' or have a different case/typo\n",
        "df['adj_close_ge_155'] = df['close'] >= 155\n",
        "\n",
        "# Crear la tabla de contingencia\n",
        "contingency_table = pd.crosstab(index=df['open_ge_155'], columns=df['adj_close_ge_155'])\n",
        "\n",
        "# Mostrar la tabla\n",
        "print(contingency_table)"
      ],
      "metadata": {
        "id": "eIYEVTprGGv3",
        "outputId": "beb0c434-5a3d-429f-91cd-5f1ba24fe607",
        "colab": {
          "base_uri": "https://localhost:8080/"
        }
      },
      "execution_count": 31,
      "outputs": [
        {
          "output_type": "stream",
          "name": "stdout",
          "text": [
            "adj_close_ge_155   False  True \n",
            "open_ge_155                    \n",
            "False             800422    539\n",
            "True                 489  49814\n"
          ]
        }
      ]
    },
    {
      "cell_type": "markdown",
      "source": [
        "Preguntas de Melts (Aplicadas a Negocios)\n",
        "Transforma las columnas de precios (Open, Close, High, Low) en una única columna llamada Precio, manteniendo la fecha (Date) y el tipo de acción (Stock).\n",
        "\n",
        "Contexto de negocio: Este formato largo es ideal para realizar visualizaciones comparativas de diferentes precios de la acción a lo largo del tiempo."
      ],
      "metadata": {
        "id": "O74ohdTbGHAt"
      }
    },
    {
      "cell_type": "code",
      "source": [
        "import pandas as pd\n",
        "\n",
        "df = pd.read_csv('prices.csv')\n",
        "\n",
        "# Use pd.melt to transform the DataFrame\n",
        "df = pd.melt(df, id_vars=['date', 'symbol'], value_vars=['open', 'close', 'high', 'low'],\n",
        "             var_name='Tipo de precio', value_name='Precio')\n",
        "\n",
        "# Rename columns to Spanish\n",
        "df = df.rename(columns={'date': 'Fecha', 'symbol': 'Stock'})\n",
        "\n",
        "# Display the transformed DataFrame\n",
        "print(df)"
      ],
      "metadata": {
        "id": "gDbe8j-uGKlX",
        "outputId": "41bf1dc4-d3dd-4ad1-ecac-c987a0858b01",
        "colab": {
          "base_uri": "https://localhost:8080/"
        }
      },
      "execution_count": 32,
      "outputs": [
        {
          "output_type": "stream",
          "name": "stdout",
          "text": [
            "                       Fecha Stock Tipo de precio      Precio\n",
            "0        2016-01-05 00:00:00  WLTW           open  123.430000\n",
            "1        2016-01-06 00:00:00  WLTW           open  125.239998\n",
            "2        2016-01-07 00:00:00  WLTW           open  116.379997\n",
            "3        2016-01-08 00:00:00  WLTW           open  115.480003\n",
            "4        2016-01-11 00:00:00  WLTW           open  117.010002\n",
            "...                      ...   ...            ...         ...\n",
            "3405051           2016-12-30   ZBH            low  102.849998\n",
            "3405052           2016-12-30  ZION            low   42.689999\n",
            "3405053           2016-12-30   ZTS            low   53.270000\n",
            "3405054  2016-12-30 00:00:00   AIV            low   44.410000\n",
            "3405055  2016-12-30 00:00:00   FTV            low   53.389999\n",
            "\n",
            "[3405056 rows x 4 columns]\n"
          ]
        }
      ]
    },
    {
      "cell_type": "markdown",
      "source": [
        "Convierte todas las columnas del dataset, excepto Date y Stock, en un formato largo usando melt.\n",
        "\n",
        "Contexto de negocio: Tener todas las variables en un formato largo es útil para generar reportes dinámicos que comparen diferentes tipos de datos (precios, volumen, etc.)."
      ],
      "metadata": {
        "id": "jUE9CvxMGKQA"
      }
    },
    {
      "cell_type": "code",
      "source": [
        "import pandas as pd\n",
        "\n",
        "df = pd.read_csv('prices.csv')\n",
        "\n",
        "# Melt the DataFrame, excluding 'date' and 'symbol' columns\n",
        "df = pd.melt(df, id_vars=['date', 'symbol'], var_name='Variable', value_name='Valor')\n",
        "\n",
        "# Display the transformed DataFrame\n",
        "print(df)"
      ],
      "metadata": {
        "id": "qloWM0gpGNNm",
        "outputId": "ab28415b-2148-44ca-f080-879cc21ed9e9",
        "colab": {
          "base_uri": "https://localhost:8080/"
        }
      },
      "execution_count": 33,
      "outputs": [
        {
          "output_type": "stream",
          "name": "stdout",
          "text": [
            "                        date symbol Variable         Valor\n",
            "0        2016-01-05 00:00:00   WLTW     open  1.234300e+02\n",
            "1        2016-01-06 00:00:00   WLTW     open  1.252400e+02\n",
            "2        2016-01-07 00:00:00   WLTW     open  1.163800e+02\n",
            "3        2016-01-08 00:00:00   WLTW     open  1.154800e+02\n",
            "4        2016-01-11 00:00:00   WLTW     open  1.170100e+02\n",
            "...                      ...    ...      ...           ...\n",
            "4256315           2016-12-30    ZBH   volume  9.738000e+05\n",
            "4256316           2016-12-30   ZION   volume  1.938100e+06\n",
            "4256317           2016-12-30    ZTS   volume  1.701200e+06\n",
            "4256318  2016-12-30 00:00:00    AIV   volume  1.380900e+06\n",
            "4256319  2016-12-30 00:00:00    FTV   volume  7.051000e+05\n",
            "\n",
            "[4256320 rows x 4 columns]\n"
          ]
        }
      ]
    },
    {
      "cell_type": "markdown",
      "source": [
        "Usa melt para convertir los precios (Open, Close, High, Low) y el volumen (Volume) en una sola columna de valor. Luego, agrupa los datos por tipo de precio y acción para calcular el promedio de cada tipo.\n",
        "\n",
        "Contexto de negocio: Este análisis permite comparar el comportamiento de diferentes precios y el volumen en un solo análisis, lo cual es útil para entender tendencias generales de la acción."
      ],
      "metadata": {
        "id": "tRKkXY7ZGNcc"
      }
    },
    {
      "cell_type": "code",
      "source": [
        "import pandas as pd\n",
        "\n",
        "df = pd.read_csv('prices.csv')\n",
        "\n",
        "# Melt the DataFrame\n",
        "df = pd.melt(df, id_vars=['date', 'symbol'], value_vars=['open', 'close', 'high', 'low', 'volume'],\n",
        "             var_name='Tipo de precio', value_name='Valor')\n",
        "\n",
        "# Group by 'Tipo de precio' and 'symbol' and calculate the average\n",
        "df = df.groupby(['Tipo de precio', 'symbol'])['Valor'].mean().reset_index()\n",
        "\n",
        "# Display the result\n",
        "print(df)"
      ],
      "metadata": {
        "id": "yO2YZpm8GQDW",
        "outputId": "165dd631-8f04-462d-a568-3a4b6daf99ee",
        "colab": {
          "base_uri": "https://localhost:8080/"
        }
      },
      "execution_count": 34,
      "outputs": [
        {
          "output_type": "stream",
          "name": "stdout",
          "text": [
            "     Tipo de precio symbol         Valor\n",
            "0             close      A  4.253944e+01\n",
            "1             close    AAL  2.387377e+01\n",
            "2             close    AAP  1.037696e+02\n",
            "3             close   AAPL  3.129271e+02\n",
            "4             close   ABBV  5.547364e+01\n",
            "...             ...    ...           ...\n",
            "2500         volume   YHOO  1.996907e+07\n",
            "2501         volume    YUM  5.163684e+06\n",
            "2502         volume    ZBH  1.509946e+06\n",
            "2503         volume   ZION  3.227187e+06\n",
            "2504         volume    ZTS  4.020115e+06\n",
            "\n",
            "[2505 rows x 3 columns]\n"
          ]
        }
      ]
    },
    {
      "cell_type": "markdown",
      "source": [
        "Realiza una transformación melt para convertir los precios en una columna y agrúpalos por día para calcular el precio promedio diario de la acción.\n",
        "\n",
        "Contexto de negocio: Esto proporciona una visión agregada del comportamiento promedio de los precios diarios de la acción."
      ],
      "metadata": {
        "id": "8GrWsiq5GQQ4"
      }
    },
    {
      "cell_type": "code",
      "source": [
        "data.columns"
      ],
      "metadata": {
        "id": "hr9saJRIhgXK",
        "outputId": "2857a79d-d8d3-4661-b12f-58179121b7d3",
        "colab": {
          "base_uri": "https://localhost:8080/"
        }
      },
      "execution_count": 41,
      "outputs": [
        {
          "output_type": "execute_result",
          "data": {
            "text/plain": [
              "Index(['date', 'symbol', 'open', 'close', 'low', 'high', 'volume'], dtype='object')"
            ]
          },
          "metadata": {},
          "execution_count": 41
        }
      ]
    },
    {
      "cell_type": "code",
      "source": [
        "# Melt the DataFrame to combine prices into a single column\n",
        "df_melt = pd.melt(df, id_vars=['date'], value_vars=['open','close','low','high'],\n",
        "             var_name='Tipo de precio', value_name='Valor') # Changed 'Precio' to 'Valor'\n"
      ],
      "metadata": {
        "id": "bjvVqOuBd0eS",
        "outputId": "6329a307-9c4c-46f1-fafd-9bc1092f1f38",
        "colab": {
          "base_uri": "https://localhost:8080/"
        }
      },
      "execution_count": 46,
      "outputs": [
        {
          "output_type": "stream",
          "name": "stdout",
          "text": [
            "          Fecha  Precio promedio diario\n",
            "0    2010-01-04               46.766048\n",
            "1    2010-01-05               46.826185\n",
            "2    2010-01-06               46.915987\n",
            "3    2010-01-07               46.926233\n",
            "4    2010-01-08               47.029547\n",
            "...         ...                     ...\n",
            "1757 2016-12-23               90.427329\n",
            "1758 2016-12-27               90.810922\n",
            "1759 2016-12-28               90.453337\n",
            "1760 2016-12-29               90.006193\n",
            "1761 2016-12-30               89.839287\n",
            "\n",
            "[1762 rows x 2 columns]\n"
          ]
        }
      ]
    },
    {
      "cell_type": "code",
      "source": [
        "df_melt"
      ],
      "metadata": {
        "id": "RNt09gx8iAs6",
        "outputId": "6da59dcc-18a0-45f1-8d53-bbb51dbdbdff",
        "colab": {
          "base_uri": "https://localhost:8080/",
          "height": 424
        }
      },
      "execution_count": 47,
      "outputs": [
        {
          "output_type": "execute_result",
          "data": {
            "text/plain": [
              "              date Tipo de precio       Valor\n",
              "0              NaT           open  123.430000\n",
              "1              NaT           open  125.239998\n",
              "2              NaT           open  116.379997\n",
              "3              NaT           open  115.480003\n",
              "4              NaT           open  117.010002\n",
              "...            ...            ...         ...\n",
              "3405051 2016-12-30           high  103.930000\n",
              "3405052 2016-12-30           high   43.310001\n",
              "3405053 2016-12-30           high   53.740002\n",
              "3405054        NaT           high   45.590000\n",
              "3405055        NaT           high   54.480000\n",
              "\n",
              "[3405056 rows x 3 columns]"
            ],
            "text/html": [
              "\n",
              "  <div id=\"df-f86eacaf-a1f4-4ac3-9a60-e44f7ecd71f0\" class=\"colab-df-container\">\n",
              "    <div>\n",
              "<style scoped>\n",
              "    .dataframe tbody tr th:only-of-type {\n",
              "        vertical-align: middle;\n",
              "    }\n",
              "\n",
              "    .dataframe tbody tr th {\n",
              "        vertical-align: top;\n",
              "    }\n",
              "\n",
              "    .dataframe thead th {\n",
              "        text-align: right;\n",
              "    }\n",
              "</style>\n",
              "<table border=\"1\" class=\"dataframe\">\n",
              "  <thead>\n",
              "    <tr style=\"text-align: right;\">\n",
              "      <th></th>\n",
              "      <th>date</th>\n",
              "      <th>Tipo de precio</th>\n",
              "      <th>Valor</th>\n",
              "    </tr>\n",
              "  </thead>\n",
              "  <tbody>\n",
              "    <tr>\n",
              "      <th>0</th>\n",
              "      <td>NaT</td>\n",
              "      <td>open</td>\n",
              "      <td>123.430000</td>\n",
              "    </tr>\n",
              "    <tr>\n",
              "      <th>1</th>\n",
              "      <td>NaT</td>\n",
              "      <td>open</td>\n",
              "      <td>125.239998</td>\n",
              "    </tr>\n",
              "    <tr>\n",
              "      <th>2</th>\n",
              "      <td>NaT</td>\n",
              "      <td>open</td>\n",
              "      <td>116.379997</td>\n",
              "    </tr>\n",
              "    <tr>\n",
              "      <th>3</th>\n",
              "      <td>NaT</td>\n",
              "      <td>open</td>\n",
              "      <td>115.480003</td>\n",
              "    </tr>\n",
              "    <tr>\n",
              "      <th>4</th>\n",
              "      <td>NaT</td>\n",
              "      <td>open</td>\n",
              "      <td>117.010002</td>\n",
              "    </tr>\n",
              "    <tr>\n",
              "      <th>...</th>\n",
              "      <td>...</td>\n",
              "      <td>...</td>\n",
              "      <td>...</td>\n",
              "    </tr>\n",
              "    <tr>\n",
              "      <th>3405051</th>\n",
              "      <td>2016-12-30</td>\n",
              "      <td>high</td>\n",
              "      <td>103.930000</td>\n",
              "    </tr>\n",
              "    <tr>\n",
              "      <th>3405052</th>\n",
              "      <td>2016-12-30</td>\n",
              "      <td>high</td>\n",
              "      <td>43.310001</td>\n",
              "    </tr>\n",
              "    <tr>\n",
              "      <th>3405053</th>\n",
              "      <td>2016-12-30</td>\n",
              "      <td>high</td>\n",
              "      <td>53.740002</td>\n",
              "    </tr>\n",
              "    <tr>\n",
              "      <th>3405054</th>\n",
              "      <td>NaT</td>\n",
              "      <td>high</td>\n",
              "      <td>45.590000</td>\n",
              "    </tr>\n",
              "    <tr>\n",
              "      <th>3405055</th>\n",
              "      <td>NaT</td>\n",
              "      <td>high</td>\n",
              "      <td>54.480000</td>\n",
              "    </tr>\n",
              "  </tbody>\n",
              "</table>\n",
              "<p>3405056 rows × 3 columns</p>\n",
              "</div>\n",
              "    <div class=\"colab-df-buttons\">\n",
              "\n",
              "  <div class=\"colab-df-container\">\n",
              "    <button class=\"colab-df-convert\" onclick=\"convertToInteractive('df-f86eacaf-a1f4-4ac3-9a60-e44f7ecd71f0')\"\n",
              "            title=\"Convert this dataframe to an interactive table.\"\n",
              "            style=\"display:none;\">\n",
              "\n",
              "  <svg xmlns=\"http://www.w3.org/2000/svg\" height=\"24px\" viewBox=\"0 -960 960 960\">\n",
              "    <path d=\"M120-120v-720h720v720H120Zm60-500h600v-160H180v160Zm220 220h160v-160H400v160Zm0 220h160v-160H400v160ZM180-400h160v-160H180v160Zm440 0h160v-160H620v160ZM180-180h160v-160H180v160Zm440 0h160v-160H620v160Z\"/>\n",
              "  </svg>\n",
              "    </button>\n",
              "\n",
              "  <style>\n",
              "    .colab-df-container {\n",
              "      display:flex;\n",
              "      gap: 12px;\n",
              "    }\n",
              "\n",
              "    .colab-df-convert {\n",
              "      background-color: #E8F0FE;\n",
              "      border: none;\n",
              "      border-radius: 50%;\n",
              "      cursor: pointer;\n",
              "      display: none;\n",
              "      fill: #1967D2;\n",
              "      height: 32px;\n",
              "      padding: 0 0 0 0;\n",
              "      width: 32px;\n",
              "    }\n",
              "\n",
              "    .colab-df-convert:hover {\n",
              "      background-color: #E2EBFA;\n",
              "      box-shadow: 0px 1px 2px rgba(60, 64, 67, 0.3), 0px 1px 3px 1px rgba(60, 64, 67, 0.15);\n",
              "      fill: #174EA6;\n",
              "    }\n",
              "\n",
              "    .colab-df-buttons div {\n",
              "      margin-bottom: 4px;\n",
              "    }\n",
              "\n",
              "    [theme=dark] .colab-df-convert {\n",
              "      background-color: #3B4455;\n",
              "      fill: #D2E3FC;\n",
              "    }\n",
              "\n",
              "    [theme=dark] .colab-df-convert:hover {\n",
              "      background-color: #434B5C;\n",
              "      box-shadow: 0px 1px 3px 1px rgba(0, 0, 0, 0.15);\n",
              "      filter: drop-shadow(0px 1px 2px rgba(0, 0, 0, 0.3));\n",
              "      fill: #FFFFFF;\n",
              "    }\n",
              "  </style>\n",
              "\n",
              "    <script>\n",
              "      const buttonEl =\n",
              "        document.querySelector('#df-f86eacaf-a1f4-4ac3-9a60-e44f7ecd71f0 button.colab-df-convert');\n",
              "      buttonEl.style.display =\n",
              "        google.colab.kernel.accessAllowed ? 'block' : 'none';\n",
              "\n",
              "      async function convertToInteractive(key) {\n",
              "        const element = document.querySelector('#df-f86eacaf-a1f4-4ac3-9a60-e44f7ecd71f0');\n",
              "        const dataTable =\n",
              "          await google.colab.kernel.invokeFunction('convertToInteractive',\n",
              "                                                    [key], {});\n",
              "        if (!dataTable) return;\n",
              "\n",
              "        const docLinkHtml = 'Like what you see? Visit the ' +\n",
              "          '<a target=\"_blank\" href=https://colab.research.google.com/notebooks/data_table.ipynb>data table notebook</a>'\n",
              "          + ' to learn more about interactive tables.';\n",
              "        element.innerHTML = '';\n",
              "        dataTable['output_type'] = 'display_data';\n",
              "        await google.colab.output.renderOutput(dataTable, element);\n",
              "        const docLink = document.createElement('div');\n",
              "        docLink.innerHTML = docLinkHtml;\n",
              "        element.appendChild(docLink);\n",
              "      }\n",
              "    </script>\n",
              "  </div>\n",
              "\n",
              "\n",
              "<div id=\"df-e2a51076-237a-40e2-a485-d597335f5ff9\">\n",
              "  <button class=\"colab-df-quickchart\" onclick=\"quickchart('df-e2a51076-237a-40e2-a485-d597335f5ff9')\"\n",
              "            title=\"Suggest charts\"\n",
              "            style=\"display:none;\">\n",
              "\n",
              "<svg xmlns=\"http://www.w3.org/2000/svg\" height=\"24px\"viewBox=\"0 0 24 24\"\n",
              "     width=\"24px\">\n",
              "    <g>\n",
              "        <path d=\"M19 3H5c-1.1 0-2 .9-2 2v14c0 1.1.9 2 2 2h14c1.1 0 2-.9 2-2V5c0-1.1-.9-2-2-2zM9 17H7v-7h2v7zm4 0h-2V7h2v10zm4 0h-2v-4h2v4z\"/>\n",
              "    </g>\n",
              "</svg>\n",
              "  </button>\n",
              "\n",
              "<style>\n",
              "  .colab-df-quickchart {\n",
              "      --bg-color: #E8F0FE;\n",
              "      --fill-color: #1967D2;\n",
              "      --hover-bg-color: #E2EBFA;\n",
              "      --hover-fill-color: #174EA6;\n",
              "      --disabled-fill-color: #AAA;\n",
              "      --disabled-bg-color: #DDD;\n",
              "  }\n",
              "\n",
              "  [theme=dark] .colab-df-quickchart {\n",
              "      --bg-color: #3B4455;\n",
              "      --fill-color: #D2E3FC;\n",
              "      --hover-bg-color: #434B5C;\n",
              "      --hover-fill-color: #FFFFFF;\n",
              "      --disabled-bg-color: #3B4455;\n",
              "      --disabled-fill-color: #666;\n",
              "  }\n",
              "\n",
              "  .colab-df-quickchart {\n",
              "    background-color: var(--bg-color);\n",
              "    border: none;\n",
              "    border-radius: 50%;\n",
              "    cursor: pointer;\n",
              "    display: none;\n",
              "    fill: var(--fill-color);\n",
              "    height: 32px;\n",
              "    padding: 0;\n",
              "    width: 32px;\n",
              "  }\n",
              "\n",
              "  .colab-df-quickchart:hover {\n",
              "    background-color: var(--hover-bg-color);\n",
              "    box-shadow: 0 1px 2px rgba(60, 64, 67, 0.3), 0 1px 3px 1px rgba(60, 64, 67, 0.15);\n",
              "    fill: var(--button-hover-fill-color);\n",
              "  }\n",
              "\n",
              "  .colab-df-quickchart-complete:disabled,\n",
              "  .colab-df-quickchart-complete:disabled:hover {\n",
              "    background-color: var(--disabled-bg-color);\n",
              "    fill: var(--disabled-fill-color);\n",
              "    box-shadow: none;\n",
              "  }\n",
              "\n",
              "  .colab-df-spinner {\n",
              "    border: 2px solid var(--fill-color);\n",
              "    border-color: transparent;\n",
              "    border-bottom-color: var(--fill-color);\n",
              "    animation:\n",
              "      spin 1s steps(1) infinite;\n",
              "  }\n",
              "\n",
              "  @keyframes spin {\n",
              "    0% {\n",
              "      border-color: transparent;\n",
              "      border-bottom-color: var(--fill-color);\n",
              "      border-left-color: var(--fill-color);\n",
              "    }\n",
              "    20% {\n",
              "      border-color: transparent;\n",
              "      border-left-color: var(--fill-color);\n",
              "      border-top-color: var(--fill-color);\n",
              "    }\n",
              "    30% {\n",
              "      border-color: transparent;\n",
              "      border-left-color: var(--fill-color);\n",
              "      border-top-color: var(--fill-color);\n",
              "      border-right-color: var(--fill-color);\n",
              "    }\n",
              "    40% {\n",
              "      border-color: transparent;\n",
              "      border-right-color: var(--fill-color);\n",
              "      border-top-color: var(--fill-color);\n",
              "    }\n",
              "    60% {\n",
              "      border-color: transparent;\n",
              "      border-right-color: var(--fill-color);\n",
              "    }\n",
              "    80% {\n",
              "      border-color: transparent;\n",
              "      border-right-color: var(--fill-color);\n",
              "      border-bottom-color: var(--fill-color);\n",
              "    }\n",
              "    90% {\n",
              "      border-color: transparent;\n",
              "      border-bottom-color: var(--fill-color);\n",
              "    }\n",
              "  }\n",
              "</style>\n",
              "\n",
              "  <script>\n",
              "    async function quickchart(key) {\n",
              "      const quickchartButtonEl =\n",
              "        document.querySelector('#' + key + ' button');\n",
              "      quickchartButtonEl.disabled = true;  // To prevent multiple clicks.\n",
              "      quickchartButtonEl.classList.add('colab-df-spinner');\n",
              "      try {\n",
              "        const charts = await google.colab.kernel.invokeFunction(\n",
              "            'suggestCharts', [key], {});\n",
              "      } catch (error) {\n",
              "        console.error('Error during call to suggestCharts:', error);\n",
              "      }\n",
              "      quickchartButtonEl.classList.remove('colab-df-spinner');\n",
              "      quickchartButtonEl.classList.add('colab-df-quickchart-complete');\n",
              "    }\n",
              "    (() => {\n",
              "      let quickchartButtonEl =\n",
              "        document.querySelector('#df-e2a51076-237a-40e2-a485-d597335f5ff9 button');\n",
              "      quickchartButtonEl.style.display =\n",
              "        google.colab.kernel.accessAllowed ? 'block' : 'none';\n",
              "    })();\n",
              "  </script>\n",
              "</div>\n",
              "\n",
              "  <div id=\"id_d0cbea7f-4f69-435e-84da-fd523ed2dea3\">\n",
              "    <style>\n",
              "      .colab-df-generate {\n",
              "        background-color: #E8F0FE;\n",
              "        border: none;\n",
              "        border-radius: 50%;\n",
              "        cursor: pointer;\n",
              "        display: none;\n",
              "        fill: #1967D2;\n",
              "        height: 32px;\n",
              "        padding: 0 0 0 0;\n",
              "        width: 32px;\n",
              "      }\n",
              "\n",
              "      .colab-df-generate:hover {\n",
              "        background-color: #E2EBFA;\n",
              "        box-shadow: 0px 1px 2px rgba(60, 64, 67, 0.3), 0px 1px 3px 1px rgba(60, 64, 67, 0.15);\n",
              "        fill: #174EA6;\n",
              "      }\n",
              "\n",
              "      [theme=dark] .colab-df-generate {\n",
              "        background-color: #3B4455;\n",
              "        fill: #D2E3FC;\n",
              "      }\n",
              "\n",
              "      [theme=dark] .colab-df-generate:hover {\n",
              "        background-color: #434B5C;\n",
              "        box-shadow: 0px 1px 3px 1px rgba(0, 0, 0, 0.15);\n",
              "        filter: drop-shadow(0px 1px 2px rgba(0, 0, 0, 0.3));\n",
              "        fill: #FFFFFF;\n",
              "      }\n",
              "    </style>\n",
              "    <button class=\"colab-df-generate\" onclick=\"generateWithVariable('df_melt')\"\n",
              "            title=\"Generate code using this dataframe.\"\n",
              "            style=\"display:none;\">\n",
              "\n",
              "  <svg xmlns=\"http://www.w3.org/2000/svg\" height=\"24px\"viewBox=\"0 0 24 24\"\n",
              "       width=\"24px\">\n",
              "    <path d=\"M7,19H8.4L18.45,9,17,7.55,7,17.6ZM5,21V16.75L18.45,3.32a2,2,0,0,1,2.83,0l1.4,1.43a1.91,1.91,0,0,1,.58,1.4,1.91,1.91,0,0,1-.58,1.4L9.25,21ZM18.45,9,17,7.55Zm-12,3A5.31,5.31,0,0,0,4.9,8.1,5.31,5.31,0,0,0,1,6.5,5.31,5.31,0,0,0,4.9,4.9,5.31,5.31,0,0,0,6.5,1,5.31,5.31,0,0,0,8.1,4.9,5.31,5.31,0,0,0,12,6.5,5.46,5.46,0,0,0,6.5,12Z\"/>\n",
              "  </svg>\n",
              "    </button>\n",
              "    <script>\n",
              "      (() => {\n",
              "      const buttonEl =\n",
              "        document.querySelector('#id_d0cbea7f-4f69-435e-84da-fd523ed2dea3 button.colab-df-generate');\n",
              "      buttonEl.style.display =\n",
              "        google.colab.kernel.accessAllowed ? 'block' : 'none';\n",
              "\n",
              "      buttonEl.onclick = () => {\n",
              "        google.colab.notebook.generateWithVariable('df_melt');\n",
              "      }\n",
              "      })();\n",
              "    </script>\n",
              "  </div>\n",
              "\n",
              "    </div>\n",
              "  </div>\n"
            ],
            "application/vnd.google.colaboratory.intrinsic+json": {
              "type": "dataframe",
              "variable_name": "df_melt"
            }
          },
          "metadata": {},
          "execution_count": 47
        }
      ]
    },
    {
      "cell_type": "code",
      "source": [
        "\n",
        "\n",
        "\n",
        "# Group by 'date' and 'symbol' and calculate the average daily price\n",
        "df_group = df_melt.groupby(['date'])['Valor'].mean().reset_index() # Changed 'Precio' to 'Valor'\n",
        "\n",
        "# Rename columns to Spanish\n",
        "df_group = df_group.rename(columns={'date': 'Fecha', 'symbol': 'Stock', 'Valor': 'Precio promedio diario'}) # Changed 'Precio' to 'Valor'\n",
        "\n",
        "# Display the result\n",
        "print(df_group)"
      ],
      "metadata": {
        "id": "mhCBQp7EiANa"
      },
      "execution_count": null,
      "outputs": []
    }
  ]
}